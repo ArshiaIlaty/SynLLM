{
 "cells": [
  {
   "cell_type": "code",
   "execution_count": null,
   "metadata": {},
   "outputs": [],
   "source": [
    "!pip install -q transformers accelerate"
   ]
  },
  {
   "cell_type": "code",
   "execution_count": null,
   "metadata": {},
   "outputs": [],
   "source": [
    "from transformers import pipeline\n",
    "\n",
    "generator = pipeline('text-generation', \n",
    "                    model='mistralai/Mistral-7B-Instruct-v0.2',\n",
    "                    device_map=\"auto\")\n",
    "\n",
    "template = \"\"\"[INST] Generate 10 synthetic diabetes records in CSV format with these columns:\n",
    "gender, age, hypertension, heart_disease, smoking_history, bmi, HbA1c_level, blood_glucose_level, diabetes\n",
    "Examples:\n",
    "Female,54.0,0,0,No Info,27.32,6.6,80,0\n",
    "Male,50.0,1,0,current,36.8,7.2,260,1\n",
    "[/INST]\"\"\"\n",
    "\n",
    "result = generator(template, \n",
    "                 max_length=1000,\n",
    "                 num_return_sequences=1,\n",
    "                 temperature=0.7)[0]['generated_text']\n",
    "\n",
    "# Extract CSV data\n",
    "csv_data = result.split(\"[/INST]\")[-1].strip().replace(\"```csv\", \"\").replace(\"```\", \"\")\n",
    "print(csv_data)"
   ]
  }
 ],
 "metadata": {
  "kernelspec": {
   "display_name": "SynLLM",
   "language": "python",
   "name": "python3"
  },
  "language_info": {
   "name": "python",
   "version": "3.10.16"
  }
 },
 "nbformat": 4,
 "nbformat_minor": 2
}
